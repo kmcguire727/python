{
 "cells": [
  {
   "cell_type": "markdown",
   "metadata": {},
   "source": [
    "# This is my desert island notebook to capture absolute essential knowledge of Python, as well as a running list of topics I come across that prove useful that I want to remember\n",
    "\n",
    "## I likely will not be capturing every detail, especially if it is trival / obvious"
   ]
  },
  {
   "cell_type": "markdown",
   "metadata": {},
   "source": [
    "### Strings"
   ]
  },
  {
   "cell_type": "code",
   "execution_count": null,
   "metadata": {},
   "outputs": [],
   "source": [
    "# creating a basic string variable\n",
    "message = 'Hello, World!'\n",
    "message2 = \"Hello's to World!\"\n",
    "print(message)\n",
    "print(message2)"
   ]
  },
  {
   "cell_type": "code",
   "execution_count": null,
   "metadata": {},
   "outputs": [],
   "source": [
    "# working with strings\n",
    "length_of_message = len(message)\n",
    "print(length_of_message)\n",
    "\n",
    "# referencing a string index\n",
    "i = 0\n",
    "while i < length_of_message:\n",
    "    print(message[i])\n",
    "    i+=1"
   ]
  },
  {
   "cell_type": "code",
   "execution_count": null,
   "metadata": {},
   "outputs": [],
   "source": [
    "# string method playground\n",
    "\n",
    "# new_message = message.replace('World', 'Universe')\n",
    "# print(message)\n",
    "# print(new_message)\n",
    "\n",
    "greeting = 'Hello'\n",
    "name = 'Michael'\n",
    "\n",
    "message = '{}, {}, Welcome!'.format(greeting, name)\n",
    "print(message)\n",
    "\n",
    "message = f'{greeting.upper()}, {name.lower()}, Welcome!'\n",
    "print(message)\n",
    "\n",
    "print(dir(message)) # get all possible methods and attributes for object\n",
    "print(help(str.lower))"
   ]
  },
  {
   "cell_type": "markdown",
   "metadata": {},
   "source": [
    "### Numerics"
   ]
  },
  {
   "cell_type": "code",
   "execution_count": null,
   "metadata": {},
   "outputs": [],
   "source": [
    "num = 3 # int\n",
    "print(type(num))\n",
    "\n",
    "num = 3.14 # float\n",
    "print(type(num))\n",
    "\n",
    "print(3+2)\n",
    "print(3-1)\n",
    "print(3/2)\n",
    "print(3//2)\n",
    "print(3%2)\n",
    "print(3**2)\n",
    "\n",
    "print(3 * (2 + 1))  #PEMDAS order of ops\n",
    "\n",
    "num = 1\n",
    "num += 1\n",
    "print(num)\n",
    "print(abs(-3))\n",
    "print(round(3.75, 1))\n"
   ]
  },
  {
   "cell_type": "code",
   "execution_count": null,
   "metadata": {},
   "outputs": [],
   "source": [
    "# comparisons\n",
    "\n",
    "num1 = 3\n",
    "num2 = 2\n",
    "\n",
    "print(num1 >= num2)"
   ]
  },
  {
   "cell_type": "code",
   "execution_count": null,
   "metadata": {},
   "outputs": [],
   "source": [
    "# casting\n",
    "\n",
    "num1 = '100'\n",
    "num2 = '200'\n",
    "\n",
    "print(int(num1) + int(num2))"
   ]
  },
  {
   "cell_type": "markdown",
   "metadata": {},
   "source": [
    "### Lists"
   ]
  },
  {
   "cell_type": "code",
   "execution_count": null,
   "metadata": {},
   "outputs": [],
   "source": [
    "friends = [\"Kevin\", \"Karen\", \"Jim\"] # multi value item\n",
    "friends = [\"Kevin\", 2, \"Jim\"] # can be a mix of types\n",
    "\n",
    "print(friends) # print whole list\n",
    "print(friends[1]) # access elements, print Karen\n",
    "print(friends[-1])  # print Jim\n",
    "print(friends[1:]) # print Karen and Jim\n",
    "\n",
    "# once initialized, you can reassign these individual values of course\n",
    "\n",
    "lucky_numbers = [4, 8, 15, 16, 23, 42]\n",
    "friends = [\"Kevin\", \"Karen\", \"Jim\", \"Oscar\", \"Toby\"] # multi value item\n",
    "friends.extend(lucky_numbers) # append lucky_numbers to the end of the friends list\n",
    "friends.append(\"Creed\") # add to end\n",
    "friends.insert(1, \"Kelly\") # add new element in between Kevin and Karen\n",
    "friends.pop() # pops an item off the list\n",
    "print(friends.index(\"Kevin\"))  # tell me if the value is in the list, and if so what it's index is\n",
    "friends.count(\"Jim\")    # tell me how many times Jim shows in the list\n",
    "\n",
    "friends.sort  # sorts in alphabetical order  CAN NEVER GET THE ORIGINAL ORDER BACK\n",
    "\n",
    "print(friends)"
   ]
  },
  {
   "cell_type": "markdown",
   "metadata": {},
   "source": [
    "### Tuples\n",
    "#### An immutable list"
   ]
  },
  {
   "cell_type": "code",
   "execution_count": null,
   "metadata": {},
   "outputs": [],
   "source": [
    "coordinates = (4, 5)    # a tuple\n",
    "#coordinates[1] = 3     # errors out because it cannot be reassigned\n",
    "\n",
    "print(coordinates[0])   # can be addressed list a list\n",
    "\n",
    "coordinates = [(4,5), (6, 7), (80, 34)] # a list of tuples\n",
    "print(coordinates)"
   ]
  },
  {
   "cell_type": "markdown",
   "metadata": {},
   "source": [
    "### Functions"
   ]
  },
  {
   "cell_type": "code",
   "execution_count": null,
   "metadata": {},
   "outputs": [],
   "source": [
    "def my_function(name = input('Name')):\n",
    "    print(f'Hi {name}!')\n",
    "    return 2+2\n",
    "\n",
    "print('Top')\n",
    "my_function()\n",
    "print('Bottom')\n",
    "my_function('Mike')\n",
    "print(my_function())    # get the return function"
   ]
  },
  {
   "cell_type": "markdown",
   "metadata": {},
   "source": [
    "### If Statements"
   ]
  },
  {
   "cell_type": "code",
   "execution_count": null,
   "metadata": {},
   "outputs": [],
   "source": [
    "value = int(input('Input a number: '))\n",
    "\n",
    "if value == 1:\n",
    "    print('Hello')\n",
    "elif value == 2:\n",
    "    print('World!')\n",
    "else:\n",
    "    print('Nah')\n"
   ]
  },
  {
   "cell_type": "code",
   "execution_count": null,
   "metadata": {},
   "outputs": [],
   "source": [
    "# Build a better calculator\n",
    "\n",
    "num1 = float(input('Enter a number: '))\n",
    "op = input('Enter an operator: ')\n",
    "num2 = float(input('Enter a number: '))\n",
    "\n",
    "if op == '+':\n",
    "    print(num1 + num2)\n",
    "elif op == '-':\n",
    "    print(num1 - num2)\n",
    "elif op == '/' or op == '\\\\':\n",
    "    print(num1 / num2)\n",
    "elif op == '*' or op == 'x':\n",
    "    print(num1 * num2)\n",
    "else:\n",
    "    print('Invalid operator')"
   ]
  },
  {
   "cell_type": "markdown",
   "metadata": {},
   "source": [
    "### Dictionaries"
   ]
  },
  {
   "cell_type": "code",
   "execution_count": null,
   "metadata": {},
   "outputs": [],
   "source": [
    "month_conversions = {       # keys have to be unique\n",
    "    'Jan': 'January',\n",
    "    'Feb': 'February',\n",
    "    'Mar': 'March',\n",
    "}\n",
    "\n",
    "print(month_conversions.get('Dec', 'Not a valid key'))"
   ]
  },
  {
   "cell_type": "markdown",
   "metadata": {},
   "source": [
    "### While Loops\n"
   ]
  },
  {
   "cell_type": "code",
   "execution_count": null,
   "metadata": {},
   "outputs": [],
   "source": [
    "i = 1\n",
    "\n",
    "while i <= 10:\n",
    "    print(i)\n",
    "    i+=1\n",
    "\n",
    "print('Done')"
   ]
  },
  {
   "cell_type": "markdown",
   "metadata": {},
   "source": [
    "### Guessing Game"
   ]
  },
  {
   "cell_type": "code",
   "execution_count": null,
   "metadata": {},
   "outputs": [],
   "source": [
    "word = 'giraffe'\n",
    "guess = ''\n",
    "user_tries = 1\n",
    "max_tries = 3\n",
    "guess_history = []\n",
    "\n",
    "print('Welcome to the word guessing game.')\n",
    "\n",
    "while guess != word and user_tries <= max_tries:\n",
    "    \n",
    "    print(f'You have {max_tries - user_tries} tries left')\n",
    "    guess = input('Enter a word: ')\n",
    "    \n",
    "    if guess == word:\n",
    "        print('You guessed it!')\n",
    "        print(f'Here are the words you guessed: {guess_history}')\n",
    "        break\n",
    "    \n",
    "    else:\n",
    "        guess_history.append(guess)\n",
    "        if user_tries == max_tries:\n",
    "            print(\"That wasn't it. That was your last guess\")\n",
    "            print(f'Here are the words you guessed: {guess_history}')\n",
    "        else:\n",
    "            print(\"That wasn't it. Guess again...\")\n",
    "            print(f'Here are the words you guessed so far: {guess_history}')\n",
    "    \n",
    "    user_tries+=1\n"
   ]
  },
  {
   "cell_type": "markdown",
   "metadata": {},
   "source": [
    "### 2D Lists"
   ]
  },
  {
   "cell_type": "code",
   "execution_count": null,
   "metadata": {},
   "outputs": [],
   "source": [
    "number_grid = [\n",
    "    [1, 2, 3],\n",
    "    [4, 5, 6],\n",
    "    [7, 8, 9],\n",
    "    [0]\n",
    "]\n",
    "\n",
    "# print(number_grid[0][0])\n",
    "\n",
    "for row in number_grid:\n",
    "    for column in row:\n",
    "        print(column)"
   ]
  },
  {
   "cell_type": "markdown",
   "metadata": {},
   "source": [
    "### Translator"
   ]
  },
  {
   "cell_type": "code",
   "execution_count": 23,
   "metadata": {},
   "outputs": [
    {
     "name": "stdout",
     "output_type": "stream",
     "text": [
      "Here is your phrase:     askjdfhalkdjhlkajdf\n",
      "Here is the translation: gskjdfhglkdjhlkgjdf\n"
     ]
    }
   ],
   "source": [
    "def translate(phrase):\n",
    "\n",
    "    translated_string_local = ''\n",
    "    for element in phrase:\n",
    "        if element.lower() in vowels:\n",
    "            if element.isupper():\n",
    "                translated_string_local += 'G'\n",
    "            else:    \n",
    "                translated_string_local += 'g'\n",
    "        else:\n",
    "            translated_string_local += element\n",
    "\n",
    "    return translated_string_local\n",
    "\n",
    "vowels = ['a', 'e', 'i', 'o', 'u', 'y']\n",
    "\n",
    "user_input = input('Enter a phrase: ')\n",
    "translated_input = translate(user_input)\n",
    "\n",
    "print(f'Here is your phrase:     {user_input}')\n",
    "print(f'Here is the translation: {translated_input}')"
   ]
  },
  {
   "cell_type": "markdown",
   "metadata": {},
   "source": [
    "### Try / Except to Catch Errors"
   ]
  },
  {
   "cell_type": "code",
   "execution_count": 34,
   "metadata": {},
   "outputs": [
    {
     "name": "stdout",
     "output_type": "stream",
     "text": [
      "1243\n",
      "division by zero\n"
     ]
    }
   ],
   "source": [
    "try:\n",
    "    number = int(input('Enter a number: '))\n",
    "    print(number)\n",
    "except:\n",
    "    print('Invalid Input')\n",
    "\n",
    "# can't have your whole program break just because someone didn't enter a number like we asked\n",
    "# if you just had that input straight piped into the int, it could break if you didn't enter number\n",
    "\n",
    "# just having a raw except will catch ANY error. Should be more specific...\n",
    "\n",
    "try:\n",
    "    num = 10/0\n",
    "    number = int(input('Enter a number: '))\n",
    "    print(number)\n",
    "except ZeroDivisionError as err:\n",
    "    print(err)\n",
    "except ValueError as err:\n",
    "    print(err)"
   ]
  },
  {
   "cell_type": "markdown",
   "metadata": {},
   "source": [
    "### Read from file"
   ]
  },
  {
   "cell_type": "code",
   "execution_count": null,
   "metadata": {},
   "outputs": [],
   "source": [
    "employee_file = open('employees.txt', 'r')  # can r, w, a (append), r+ (read/write)\n",
    "\n",
    "print(employee_file.readable()) # file can be read\n",
    "#print(employee_file.read()) # file can be read\n",
    "\n",
    "for employee in employee_file.readlines():\n",
    "    print(employee)\n",
    "\n",
    "employee_file.close()"
   ]
  },
  {
   "cell_type": "markdown",
   "metadata": {},
   "source": [
    "### Writing new file"
   ]
  },
  {
   "cell_type": "code",
   "execution_count": 57,
   "metadata": {},
   "outputs": [],
   "source": [
    "employee_file = open('employees2.txt', 'a')  # can r, w, a (append), r+ (read/write)\n",
    "\n",
    "employee_file.write('\\nToby - Human Resources')\n",
    "employee_file.write('\\nKelly - Customer Service')\n",
    "\n",
    "employee_file.close()"
   ]
  },
  {
   "cell_type": "markdown",
   "metadata": {},
   "source": [
    "### Modules"
   ]
  },
  {
   "cell_type": "code",
   "execution_count": 58,
   "metadata": {},
   "outputs": [
    {
     "name": "stdout",
     "output_type": "stream",
     "text": [
      "0.8.11\n"
     ]
    }
   ],
   "source": [
    "# import <insert python file name in the right directory here>\n",
    "\n",
    "import docx\n",
    "\n",
    "print(docx.__version__)"
   ]
  },
  {
   "cell_type": "markdown",
   "metadata": {},
   "source": [
    "### Classes and Objects\n",
    "#### How to essentially create your own data type"
   ]
  },
  {
   "cell_type": "code",
   "execution_count": null,
   "metadata": {},
   "outputs": [],
   "source": [
    "# now we need to create an object, that is actually a student\n",
    "from student import Student\n",
    "\n"
   ]
  }
 ],
 "metadata": {
  "kernelspec": {
   "display_name": "Python 3",
   "language": "python",
   "name": "python3"
  },
  "language_info": {
   "codemirror_mode": {
    "name": "ipython",
    "version": 3
   },
   "file_extension": ".py",
   "mimetype": "text/x-python",
   "name": "python",
   "nbconvert_exporter": "python",
   "pygments_lexer": "ipython3",
   "version": "3.11.5"
  },
  "orig_nbformat": 4
 },
 "nbformat": 4,
 "nbformat_minor": 2
}
