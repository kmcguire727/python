{
 "cells": [
  {
   "cell_type": "markdown",
   "metadata": {},
   "source": [
    "# This is my desert island notebook to capture absolute essential knowledge of Python, as well as a running list of topics I come across that prove useful that I want to remember\n",
    "\n",
    "## I likely will not be capturing every detail, especially if it is trival / obvious"
   ]
  },
  {
   "cell_type": "markdown",
   "metadata": {},
   "source": [
    "### Strings"
   ]
  },
  {
   "cell_type": "code",
   "execution_count": null,
   "metadata": {},
   "outputs": [],
   "source": [
    "# creating a basic string variable\n",
    "message = 'Hello, World!'\n",
    "message2 = \"Hello's to World!\"\n",
    "print(message)\n",
    "print(message2)"
   ]
  },
  {
   "cell_type": "code",
   "execution_count": null,
   "metadata": {},
   "outputs": [],
   "source": [
    "# working with strings\n",
    "length_of_message = len(message)\n",
    "print(length_of_message)\n",
    "\n",
    "# referencing a string index\n",
    "i = 0\n",
    "while i < length_of_message:\n",
    "    print(message[i])\n",
    "    i+=1"
   ]
  },
  {
   "cell_type": "code",
   "execution_count": null,
   "metadata": {},
   "outputs": [],
   "source": [
    "# string method playground\n",
    "\n",
    "# new_message = message.replace('World', 'Universe')\n",
    "# print(message)\n",
    "# print(new_message)\n",
    "\n",
    "greeting = 'Hello'\n",
    "name = 'Michael'\n",
    "\n",
    "message = '{}, {}, Welcome!'.format(greeting, name)\n",
    "print(message)\n",
    "\n",
    "message = f'{greeting.upper()}, {name.lower()}, Welcome!'\n",
    "print(message)\n",
    "\n",
    "print(dir(message)) # get all possible methods and attributes for object\n",
    "print(help(str.lower))"
   ]
  },
  {
   "cell_type": "markdown",
   "metadata": {},
   "source": [
    "### Numerics"
   ]
  },
  {
   "cell_type": "code",
   "execution_count": null,
   "metadata": {},
   "outputs": [],
   "source": [
    "num = 3 # int\n",
    "print(type(num))\n",
    "\n",
    "num = 3.14 # float\n",
    "print(type(num))\n",
    "\n",
    "print(3+2)\n",
    "print(3-1)\n",
    "print(3/2)\n",
    "print(3//2)\n",
    "print(3%2)\n",
    "print(3**2)\n",
    "\n",
    "print(3 * (2 + 1))  #PEMDAS order of ops\n",
    "\n",
    "num = 1\n",
    "num += 1\n",
    "print(num)\n",
    "print(abs(-3))\n",
    "print(round(3.75, 1))\n"
   ]
  },
  {
   "cell_type": "code",
   "execution_count": null,
   "metadata": {},
   "outputs": [],
   "source": [
    "# comparisons\n",
    "\n",
    "num1 = 3\n",
    "num2 = 2\n",
    "\n",
    "print(num1 >= num2)"
   ]
  },
  {
   "cell_type": "code",
   "execution_count": 48,
   "metadata": {},
   "outputs": [
    {
     "name": "stdout",
     "output_type": "stream",
     "text": [
      "300\n"
     ]
    }
   ],
   "source": [
    "# casting\n",
    "\n",
    "num1 = '100'\n",
    "num2 = '200'\n",
    "\n",
    "print(int(num1) + int(num2))"
   ]
  },
  {
   "cell_type": "markdown",
   "metadata": {},
   "source": [
    "### Lists, Tuples, Sets"
   ]
  }
 ],
 "metadata": {
  "kernelspec": {
   "display_name": "Python 3",
   "language": "python",
   "name": "python3"
  },
  "language_info": {
   "codemirror_mode": {
    "name": "ipython",
    "version": 3
   },
   "file_extension": ".py",
   "mimetype": "text/x-python",
   "name": "python",
   "nbconvert_exporter": "python",
   "pygments_lexer": "ipython3",
   "version": "3.11.4"
  },
  "orig_nbformat": 4
 },
 "nbformat": 4,
 "nbformat_minor": 2
}
